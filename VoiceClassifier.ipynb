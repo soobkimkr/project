{
  "nbformat": 4,
  "nbformat_minor": 0,
  "metadata": {
    "colab": {
      "name": "Untitled1.ipynb",
      "provenance": [],
      "toc_visible": true,
      "authorship_tag": "ABX9TyMHh78Jufbd0KTNut3XXseU",
      "include_colab_link": true
    },
    "kernelspec": {
      "name": "python3",
      "display_name": "Python 3"
    },
    "language_info": {
      "name": "python"
    }
  },
  "cells": [
    {
      "cell_type": "markdown",
      "metadata": {
        "id": "view-in-github",
        "colab_type": "text"
      },
      "source": [
        "<a href=\"https://colab.research.google.com/github/soobkimkr/project/blob/main/VoiceClassifier.ipynb\" target=\"_parent\"><img src=\"https://colab.research.google.com/assets/colab-badge.svg\" alt=\"Open In Colab\"/></a>"
      ]
    },
    {
      "cell_type": "markdown",
      "metadata": {
        "id": "01zoK4Q5R_ud"
      },
      "source": [
        "# 음성인식 딥러닝 모델\n",
        "- Simple MLP\n",
        "- CNN"
      ]
    },
    {
      "cell_type": "markdown",
      "metadata": {
        "id": "iRRvULGHR9JQ"
      },
      "source": [
        "### 1. audio recording 파악\n",
        "- librosa library 사용"
      ]
    },
    {
      "cell_type": "code",
      "metadata": {
        "id": "mwtK-B2CRwDs"
      },
      "source": [
        "import librosa"
      ],
      "execution_count": 1,
      "outputs": []
    },
    {
      "cell_type": "code",
      "metadata": {
        "colab": {
          "base_uri": "https://localhost:8080/"
        },
        "id": "9unuzT53TM40",
        "outputId": "6b10e450-a43e-4967-9b5b-8b635bc3b67f"
      },
      "source": [
        "# wav : 시계열 데이터 / sr : 오디오의 초당 샘플링 수\n",
        "wav, sr = librosa.load('train_11.wav')\n",
        "print('sr:', sr)\n",
        "print('wav shape:', wav.shape)\n",
        "print('length:', wav.shape[0]/float(sr), 'secs')"
      ],
      "execution_count": 3,
      "outputs": [
        {
          "output_type": "stream",
          "text": [
            "sr: 22050\n",
            "wav shape: (22528,)\n",
            "length: 1.0216780045351475 secs\n"
          ],
          "name": "stdout"
        }
      ]
    },
    {
      "cell_type": "code",
      "metadata": {
        "id": "VZ3xp62mUMC8"
      },
      "source": [
        "import matplotlib.pyplot as plt\n",
        "%matplotlib inline"
      ],
      "execution_count": 5,
      "outputs": []
    },
    {
      "cell_type": "code",
      "metadata": {
        "colab": {
          "base_uri": "https://localhost:8080/",
          "height": 301
        },
        "id": "ag1XPhnATzIL",
        "outputId": "9699af77-98a9-419f-b6c0-78f7d3c71813"
      },
      "source": [
        "# raw wave\n",
        "print(plt.plot(wav))\n",
        "print(plt.plot(wav[0:500]))"
      ],
      "execution_count": 6,
      "outputs": [
        {
          "output_type": "stream",
          "text": [
            "[<matplotlib.lines.Line2D object at 0x7f55425a6790>]\n",
            "[<matplotlib.lines.Line2D object at 0x7f5542966710>]\n"
          ],
          "name": "stdout"
        },
        {
          "output_type": "display_data",
          "data": {
            "image/png": "[encoded data removed]",
            "text/plain": [
              "<Figure size 432x288 with 1 Axes>"
            ]
          },
          "metadata": {
            "tags": [],
            "needs_background": "light"
          }
        }
      ]
    },
    {
      "cell_type": "markdown",
      "metadata": {
        "id": "U4pKYH06ZjaO"
      },
      "source": [
        "### 2. 데이터 설정 및 전처리\n",
        "- speech MNIST 데이터 불러오기"
      ]
    },
    {
      "cell_type": "code",
      "metadata": {
        "id": "Zo2dfz9qUIOq"
      },
      "source": [
        "# 오디오 데이터: 4명의 발화자(sb, yi, jy, sw). 발화자 당 500개의 오디오 파일. 총 2000개\n",
        "DATA_DIR = 'data/recordings/'"
      ],
      "execution_count": 11,
      "outputs": []
    },
    {
      "cell_type": "markdown",
      "metadata": {
        "id": "72hpjGU3fQMB"
      },
      "source": [
        "- 데이터 설정"
      ]
    },
    {
      "cell_type": "code",
      "metadata": {
        "id": "aiiSaa_pVak9"
      },
      "source": [
        "# sb라는 발화자의 데이터만 테스트데이터로, 나머지는 학습데이터로 설정.\n",
        "test_speaker = 'sb'\n",
        "X_train = []\n",
        "train_spectrograms = []\n",
        "train_mel_spectrograms = []\n",
        "train_mfccs = []\n",
        "y_train = []\n",
        "\n",
        "X_test = []\n",
        "test_spectrograms = []\n",
        "test_mel_spectrograms = []\n",
        "test_mfccs = []\n",
        "y_test = []"
      ],
      "execution_count": 7,
      "outputs": []
    },
    {
      "cell_type": "code",
      "metadata": {
        "id": "Hy0h2TBkYnYq"
      },
      "source": [
        "import numpy as np\n",
        "import tensorflow as tf\n",
        "seed = 2021\n",
        "np.random.seed(seed)\n",
        "tf.random.set_seed(seed)"
      ],
      "execution_count": 8,
      "outputs": []
    },
    {
      "cell_type": "code",
      "metadata": {
        "id": "RMzbIB18Vzvi"
      },
      "source": [
        "# 패딩함수 생성\n",
        "\n",
        "# 1차원 패딩함수 생성\n",
        "def pad1d(a, i):   # a는 wave, i는 데이터수\n",
        "  if a.shape[0] > i:\n",
        "    return a[0:i]   # wave의 데이터가 i보다 많은 경우, 모든 데이터를 출력\n",
        "  else:\n",
        "    return np.hstack((a, np.zeros(i - a.shape[0])))   # wave 데이터가 i보다 적거나 같은 경우, 개수 차이만큼의 0으로 채운 array를 수평으로 wave 데이터의 array 요소값에 추가\n",
        "\n",
        "# 2차원 패딩함수 생성\n",
        "def pad2d(a, i):\n",
        "  if a.shape[1] > i:\n",
        "    return a[:, 0:i] # wave의 데이터가 i보다 많은 경우, 모든 데이터를 출력\n",
        "  else:\n",
        "    return np.hstack((a, np.zeros((a.shape[0], i - a.shape[1])))) # wave 데이터의 갯수의 요소에 개수 차이만큼의 0으로 채운 array를 wave 데이터의 요소값에 추가"
      ],
      "execution_count": 9,
      "outputs": []
    },
    {
      "cell_type": "code",
      "metadata": {
        "id": "kvbWnUWyYqEk"
      },
      "source": [
        "import os"
      ],
      "execution_count": 10,
      "outputs": []
    },
    {
      "cell_type": "code",
      "metadata": {
        "colab": {
          "base_uri": "https://localhost:8080/",
          "height": 244
        },
        "id": "mTdsNGFEYDNJ",
        "outputId": "9507c9c5-8606-4026-a049-a1f4dbab403c"
      },
      "source": [
        "for fname in os.listdir(DATA_DIR):\n",
        "  try:\n",
        "    if '.wav' not in fname or 'dima' in fname:    # 예외 처리\n",
        "      continue    # 예외가 발생해도 계속 반복문 진행\n",
        "    struct = fname.split('_')    # 파일명을 문자 사이를 '_'으로 구분 인식 / ex) 0_sb.wav\n",
        "    digit = struct[0]    # 파일명의 첫번째 문자열은 발화 숫자 (0~9)\n",
        "    speaker = struct[1]    # 파일명의 두번째 문자열은 발화자 (sb, yi, jy, sw)\n",
        "    wav, sr = librosa.load(DATA_DIR + fname)\n",
        "    X_padded = pad1d(wav, 30000)    # wave의 1차원 데이터를 패딩하여 데이터 값을 늘림.\n",
        "    spectrogram = np.abs(librosa.stft(wav))   # STFT (Short Time Fourier Transform): 음성을 작은 조각으로 자르고 푸리에 변환을 적용해 시간(0.01초)에 따른 진동수 분포를 파악\n",
        "    spectrogram_padded = pad2d(spectrogram, 40)    # spectrogram: STFT 결과를 L2 정규화(절대값)한 결과 / spectrogram 데이터를 패딩하여 2차원 데이터 값을 늘림.\n",
        "\n",
        "    mel_spectrogram = librosa.feature.melspectrogram(wav)   # melspectrogram: spectrogram에 고음(민감) / 저음(둔감) 특징을 반영한 mel-filter를 적용하여 데이터 축소.\n",
        "    mel_spectrogram_padded = pad2d(mel_spectrogram, 40) \n",
        "\n",
        "    mfcc = librosa.feature.mfcc(wav)   # MFCC (Mel-Frequency Cepstral Coefficients): 입력 신호에서 음성을 작은 조각으로 자르고 노이즈 및 배경 소리를 제거하여 유효한 소리만 추출\n",
        "    mfcc_padded = pad2d(mfcc, 40)\n",
        "\n",
        "    if speaker == test_speaker:   # 발화자 sb의 데이터는 테스트데이터\n",
        "      X_test.append(X_padded)    # 발화자 sb의 음성 파일에서 추출한 wave 데이터를 패딩하여 모두 결합\n",
        "      test_spectrograms.append(spectrogram_padded)\n",
        "      test_mel_spectrograms.append(mel_spectrogram_padded)\n",
        "      test_mfccs.append(mfcc_padded)\n",
        "      y_test.append(digit)   # 발화 숫자는 y \n",
        "    else:\n",
        "      X_train.append(X_padded)   # 발화자 yi, jy, sw의 데이터는 학습데이터\n",
        "      train_spectrograms.append(spectrogram_padded)\n",
        "      train_mel_spectrograms.append(mel_spectrogram_padded)\n",
        "      train_mfccs.append(mfcc_padded)\n",
        "      y_train.append(digit)\n",
        "  except Exception as e: \n",
        "    print(fname, e) # 상위 try 이하 명령 실행 도중 예외(Exception 오류)가 발생 시 실행을 멈추지 않고 이후 해당 음성 파일 이름을 출력\n",
        "    raise # 예외 (파일명에 '.wave'가 없거나 'dima'를 포함하거나) 처리"
      ],
      "execution_count": 12,
      "outputs": [
        {
          "output_type": "error",
          "ename": "FileNotFoundError",
          "evalue": "ignored",
          "traceback": [
            "\u001b[0;31m---------------------------------------------------------------------------\u001b[0m",
            "\u001b[0;31mFileNotFoundError\u001b[0m                         Traceback (most recent call last)",
            "\u001b[0;32m<ipython-input-12-1bced9350d51>\u001b[0m in \u001b[0;36m<module>\u001b[0;34m()\u001b[0m\n\u001b[0;32m----> 1\u001b[0;31m \u001b[0;32mfor\u001b[0m \u001b[0mfname\u001b[0m \u001b[0;32min\u001b[0m \u001b[0mos\u001b[0m\u001b[0;34m.\u001b[0m\u001b[0mlistdir\u001b[0m\u001b[0;34m(\u001b[0m\u001b[0mDATA_DIR\u001b[0m\u001b[0;34m)\u001b[0m\u001b[0;34m:\u001b[0m\u001b[0;34m\u001b[0m\u001b[0;34m\u001b[0m\u001b[0m\n\u001b[0m\u001b[1;32m      2\u001b[0m   \u001b[0;32mtry\u001b[0m\u001b[0;34m:\u001b[0m\u001b[0;34m\u001b[0m\u001b[0;34m\u001b[0m\u001b[0m\n\u001b[1;32m      3\u001b[0m     \u001b[0;32mif\u001b[0m \u001b[0;34m'.wav'\u001b[0m \u001b[0;32mnot\u001b[0m \u001b[0;32min\u001b[0m \u001b[0mfname\u001b[0m \u001b[0;32mor\u001b[0m \u001b[0;34m'dima'\u001b[0m \u001b[0;32min\u001b[0m \u001b[0mfname\u001b[0m\u001b[0;34m:\u001b[0m\u001b[0;34m\u001b[0m\u001b[0;34m\u001b[0m\u001b[0m\n\u001b[1;32m      4\u001b[0m       \u001b[0;32mcontinue\u001b[0m\u001b[0;34m\u001b[0m\u001b[0;34m\u001b[0m\u001b[0m\n\u001b[1;32m      5\u001b[0m     \u001b[0mstruct\u001b[0m \u001b[0;34m=\u001b[0m \u001b[0mfname\u001b[0m\u001b[0;34m.\u001b[0m\u001b[0msplit\u001b[0m\u001b[0;34m(\u001b[0m\u001b[0;34m'_'\u001b[0m\u001b[0;34m)\u001b[0m\u001b[0;34m\u001b[0m\u001b[0;34m\u001b[0m\u001b[0m\n",
            "\u001b[0;31mFileNotFoundError\u001b[0m: [Errno 2] No such file or directory: 'data/recordings/'"
          ]
        }
      ]
    },
    {
      "cell_type": "markdown",
      "metadata": {
        "id": "BYBGRD88fr92"
      },
      "source": [
        "- 데이터 전처리"
      ]
    },
    {
      "cell_type": "code",
      "metadata": {
        "id": "pYyrKN6Nb7xI"
      },
      "source": [
        "from tensorflow.keras.utils import to_categorical"
      ],
      "execution_count": 13,
      "outputs": []
    },
    {
      "cell_type": "code",
      "metadata": {
        "colab": {
          "base_uri": "https://localhost:8080/",
          "height": 442
        },
        "id": "yBgd8w5JbVOk",
        "outputId": "0eda3a9f-fe16-4661-f6fe-cbdbac760df7"
      },
      "source": [
        "X_train = np.vstack(X_train) # 모든 학습데이터를 수직으로 array를 결합\n",
        "train_spectrograms = np.array(train_spectrograms)  # 리스트를 array로 변환\n",
        "train_mel_spectrograms = np.array(train_mel_spectrograms)\n",
        "train_mfccs = np.array(train_mfccs)\n",
        "y_train = to_categorical(np.array(y_train))   # 발화 숫자를 One-hot encoding 하여 전처리\n",
        "\n",
        "X_test = np.vstack(X_test)\n",
        "test_spectrograms = np.array(test_spectrograms)\n",
        "test_mel_spectrograms = np.array(test_mel_spectrograms)\n",
        "test_mfccs = np.array(test_mfccs)\n",
        "y_test = to_categorical(np.array(y_test))"
      ],
      "execution_count": 14,
      "outputs": [
        {
          "output_type": "error",
          "ename": "ValueError",
          "evalue": "ignored",
          "traceback": [
            "\u001b[0;31m---------------------------------------------------------------------------\u001b[0m",
            "\u001b[0;31mValueError\u001b[0m                                Traceback (most recent call last)",
            "\u001b[0;32m<ipython-input-14-49a7e11f1995>\u001b[0m in \u001b[0;36m<module>\u001b[0;34m()\u001b[0m\n\u001b[0;32m----> 1\u001b[0;31m \u001b[0mX_train\u001b[0m \u001b[0;34m=\u001b[0m \u001b[0mnp\u001b[0m\u001b[0;34m.\u001b[0m\u001b[0mvstack\u001b[0m\u001b[0;34m(\u001b[0m\u001b[0mX_train\u001b[0m\u001b[0;34m)\u001b[0m\u001b[0;34m\u001b[0m\u001b[0;34m\u001b[0m\u001b[0m\n\u001b[0m\u001b[1;32m      2\u001b[0m \u001b[0mtrain_spectrograms\u001b[0m \u001b[0;34m=\u001b[0m \u001b[0mnp\u001b[0m\u001b[0;34m.\u001b[0m\u001b[0marray\u001b[0m\u001b[0;34m(\u001b[0m\u001b[0mtrain_spectrograms\u001b[0m\u001b[0;34m)\u001b[0m\u001b[0;34m\u001b[0m\u001b[0;34m\u001b[0m\u001b[0m\n\u001b[1;32m      3\u001b[0m \u001b[0mtrain_mel_spectrograms\u001b[0m \u001b[0;34m=\u001b[0m \u001b[0mnp\u001b[0m\u001b[0;34m.\u001b[0m\u001b[0marray\u001b[0m\u001b[0;34m(\u001b[0m\u001b[0mtrain_mel_spectrograms\u001b[0m\u001b[0;34m)\u001b[0m\u001b[0;34m\u001b[0m\u001b[0;34m\u001b[0m\u001b[0m\n\u001b[1;32m      4\u001b[0m \u001b[0mtrain_mfccs\u001b[0m \u001b[0;34m=\u001b[0m \u001b[0mnp\u001b[0m\u001b[0;34m.\u001b[0m\u001b[0marray\u001b[0m\u001b[0;34m(\u001b[0m\u001b[0mtrain_mfccs\u001b[0m\u001b[0;34m)\u001b[0m\u001b[0;34m\u001b[0m\u001b[0;34m\u001b[0m\u001b[0m\n\u001b[1;32m      5\u001b[0m \u001b[0my_train\u001b[0m \u001b[0;34m=\u001b[0m \u001b[0mto_categorical\u001b[0m\u001b[0;34m(\u001b[0m\u001b[0mnp\u001b[0m\u001b[0;34m.\u001b[0m\u001b[0marray\u001b[0m\u001b[0;34m(\u001b[0m\u001b[0my_train\u001b[0m\u001b[0;34m)\u001b[0m\u001b[0;34m)\u001b[0m\u001b[0;34m\u001b[0m\u001b[0;34m\u001b[0m\u001b[0m\n",
            "\u001b[0;32m<__array_function__ internals>\u001b[0m in \u001b[0;36mvstack\u001b[0;34m(*args, **kwargs)\u001b[0m\n",
            "\u001b[0;32m/usr/local/lib/python3.7/dist-packages/numpy/core/shape_base.py\u001b[0m in \u001b[0;36mvstack\u001b[0;34m(tup)\u001b[0m\n\u001b[1;32m    281\u001b[0m     \u001b[0;32mif\u001b[0m \u001b[0;32mnot\u001b[0m \u001b[0misinstance\u001b[0m\u001b[0;34m(\u001b[0m\u001b[0marrs\u001b[0m\u001b[0;34m,\u001b[0m \u001b[0mlist\u001b[0m\u001b[0;34m)\u001b[0m\u001b[0;34m:\u001b[0m\u001b[0;34m\u001b[0m\u001b[0;34m\u001b[0m\u001b[0m\n\u001b[1;32m    282\u001b[0m         \u001b[0marrs\u001b[0m \u001b[0;34m=\u001b[0m \u001b[0;34m[\u001b[0m\u001b[0marrs\u001b[0m\u001b[0;34m]\u001b[0m\u001b[0;34m\u001b[0m\u001b[0;34m\u001b[0m\u001b[0m\n\u001b[0;32m--> 283\u001b[0;31m     \u001b[0;32mreturn\u001b[0m \u001b[0m_nx\u001b[0m\u001b[0;34m.\u001b[0m\u001b[0mconcatenate\u001b[0m\u001b[0;34m(\u001b[0m\u001b[0marrs\u001b[0m\u001b[0;34m,\u001b[0m \u001b[0;36m0\u001b[0m\u001b[0;34m)\u001b[0m\u001b[0;34m\u001b[0m\u001b[0;34m\u001b[0m\u001b[0m\n\u001b[0m\u001b[1;32m    284\u001b[0m \u001b[0;34m\u001b[0m\u001b[0m\n\u001b[1;32m    285\u001b[0m \u001b[0;34m\u001b[0m\u001b[0m\n",
            "\u001b[0;32m<__array_function__ internals>\u001b[0m in \u001b[0;36mconcatenate\u001b[0;34m(*args, **kwargs)\u001b[0m\n",
            "\u001b[0;31mValueError\u001b[0m: need at least one array to concatenate"
          ]
        }
      ]
    },
    {
      "cell_type": "code",
      "metadata": {
        "colab": {
          "base_uri": "https://localhost:8080/",
          "height": 244
        },
        "id": "ixW5U8kqcYlE",
        "outputId": "dd89547f-6b6d-47a6-f032-dbbe25ec1041"
      },
      "source": [
        "print('X_train:', X_train.shape)\n",
        "print('train_spectrogram:', train_spectrograms.shape)\n",
        "print('train_mel_spectrogram:', train_mel_spectrograms.shape)\n",
        "print('train_mfccs:', train_mfccs.shape)\n",
        "print('y_train:', y_train.shape)\n",
        "\n",
        "print('X_test:', X_test.shape)\n",
        "print('test_spectrogram:', test_spectrograms.shape)\n",
        "print('test_mel_spectrogram:', test_mel_spectrograms.shape)\n",
        "print('test_mfccs:', test_mfccs.shape)\n",
        "print('y_test:', y_test.shape)"
      ],
      "execution_count": 15,
      "outputs": [
        {
          "output_type": "error",
          "ename": "AttributeError",
          "evalue": "ignored",
          "traceback": [
            "\u001b[0;31m---------------------------------------------------------------------------\u001b[0m",
            "\u001b[0;31mAttributeError\u001b[0m                            Traceback (most recent call last)",
            "\u001b[0;32m<ipython-input-15-0283ffdc557f>\u001b[0m in \u001b[0;36m<module>\u001b[0;34m()\u001b[0m\n\u001b[0;32m----> 1\u001b[0;31m \u001b[0mprint\u001b[0m\u001b[0;34m(\u001b[0m\u001b[0;34m'X_train:'\u001b[0m\u001b[0;34m,\u001b[0m \u001b[0mX_train\u001b[0m\u001b[0;34m.\u001b[0m\u001b[0mshape\u001b[0m\u001b[0;34m)\u001b[0m\u001b[0;34m\u001b[0m\u001b[0;34m\u001b[0m\u001b[0m\n\u001b[0m\u001b[1;32m      2\u001b[0m \u001b[0mprint\u001b[0m\u001b[0;34m(\u001b[0m\u001b[0;34m'train_spectrogram:'\u001b[0m\u001b[0;34m,\u001b[0m \u001b[0mtrain_spectrograms\u001b[0m\u001b[0;34m.\u001b[0m\u001b[0mshape\u001b[0m\u001b[0;34m)\u001b[0m\u001b[0;34m\u001b[0m\u001b[0;34m\u001b[0m\u001b[0m\n\u001b[1;32m      3\u001b[0m \u001b[0mprint\u001b[0m\u001b[0;34m(\u001b[0m\u001b[0;34m'train_mel_spectrogram:'\u001b[0m\u001b[0;34m,\u001b[0m \u001b[0mtrain_mel_spectrograms\u001b[0m\u001b[0;34m.\u001b[0m\u001b[0mshape\u001b[0m\u001b[0;34m)\u001b[0m\u001b[0;34m\u001b[0m\u001b[0;34m\u001b[0m\u001b[0m\n\u001b[1;32m      4\u001b[0m \u001b[0mprint\u001b[0m\u001b[0;34m(\u001b[0m\u001b[0;34m'train_mfccs:'\u001b[0m\u001b[0;34m,\u001b[0m \u001b[0mtrain_mfccs\u001b[0m\u001b[0;34m.\u001b[0m\u001b[0mshape\u001b[0m\u001b[0;34m)\u001b[0m\u001b[0;34m\u001b[0m\u001b[0;34m\u001b[0m\u001b[0m\n\u001b[1;32m      5\u001b[0m \u001b[0mprint\u001b[0m\u001b[0;34m(\u001b[0m\u001b[0;34m'y_train:'\u001b[0m\u001b[0;34m,\u001b[0m \u001b[0my_train\u001b[0m\u001b[0;34m.\u001b[0m\u001b[0mshape\u001b[0m\u001b[0;34m)\u001b[0m\u001b[0;34m\u001b[0m\u001b[0;34m\u001b[0m\u001b[0m\n",
            "\u001b[0;31mAttributeError\u001b[0m: 'list' object has no attribute 'shape'"
          ]
        }
      ]
    },
    {
      "cell_type": "markdown",
      "metadata": {
        "id": "oEljqyCue-Wu"
      },
      "source": [
        "### 3. 모델 학습\n",
        "- Simple MLP with raw waves"
      ]
    },
    {
      "cell_type": "code",
      "metadata": {
        "id": "nbJ11I7BgJeZ"
      },
      "source": [
        "from tensorflow.keras.models import Sequential\n",
        "from tensorflow.keras.layers import Dense"
      ],
      "execution_count": 16,
      "outputs": []
    },
    {
      "cell_type": "code",
      "metadata": {
        "id": "w3P5cPbHeyQN"
      },
      "source": [
        "# 모델 정의\n",
        "model = Sequential([                 \n",
        "    Dense(128, input_shape=(X_train[0].shape), activation='relu'),\n",
        "    Dense(10, activation='softmax')\n",
        "])\n",
        "model.summary()"
      ],
      "execution_count": null,
      "outputs": []
    },
    {
      "cell_type": "code",
      "metadata": {
        "id": "bS_GqjY8g4oS"
      },
      "source": [
        "# 모델 설정\n",
        "model.compile(\n",
        "    optimizer='adam', loss='categorical_crossentropy', metrics=['accuracy']\n",
        ")"
      ],
      "execution_count": null,
      "outputs": []
    },
    {
      "cell_type": "code",
      "metadata": {
        "id": "DIgA_eRChUZu"
      },
      "source": [
        "# 모델 학습\n",
        "history = model.fit(\n",
        "    X_train, y_train,\n",
        "    epochs=10, batch_size=32,\n",
        "    validation_data=(X_test, y_test)\n",
        ")"
      ],
      "execution_count": null,
      "outputs": []
    },
    {
      "cell_type": "code",
      "metadata": {
        "id": "J66piG84igVI"
      },
      "source": [
        "# 훈련과정 시각화\n",
        "plt.figure(figsize=(12,8))\n",
        "plt.plot(history.history['acc'], 'bo-', markersize=2, label='Train Accuracy')\n",
        "plt.plot(history.history['val_acc'], 'ro-', markersize=2, label='Validation Accuracy')\n",
        "plt.xlabel('Epochs')\n",
        "plt.ylabel('Accuracy')\n",
        "plt.legend()\n",
        "plt.show()"
      ],
      "execution_count": null,
      "outputs": []
    },
    {
      "cell_type": "markdown",
      "metadata": {
        "id": "uXl2_w0VkcRg"
      },
      "source": [
        "- CNN with MFCC (Mel-Frequency Cepstral Coefficients)"
      ]
    },
    {
      "cell_type": "code",
      "metadata": {
        "id": "oQoq98xKklhz"
      },
      "source": [
        "X_train_ex = np.expand_dims(train_mfccs, -1)   # 차원 추가 (.reshape()와 동일)\n",
        "X_test_ex = np.expand_dims(test_mfccs, -1)\n",
        "print('X train shape:', X_train_ex.shape)\n",
        "print('X test shape:', X_test_ex.shape)"
      ],
      "execution_count": null,
      "outputs": []
    },
    {
      "cell_type": "code",
      "metadata": {
        "id": "v60GDjjDlGph"
      },
      "source": [
        "from tensorflow.keras.layers import Conv2D, MaxPooling2D, Flatten"
      ],
      "execution_count": 17,
      "outputs": []
    },
    {
      "cell_type": "code",
      "metadata": {
        "id": "1WFhuYDHlA5b"
      },
      "source": [
        "# 모델 정의\n",
        "model = Sequential([\n",
        "    Conv2D(64, (4,4), input_shape=X_train_ex[0].shape, activation='relu'),  # Convolution 층 추가\n",
        "    MaxPooling2D((pool_size=4),    # Convolution 결과를 MaxPooling으로 축소\n",
        "    Flatten(),             # n차원을 1차원(기본층)으로 변환\n",
        "    Dense(32, activation='relu'),\n",
        "    Dense(10, activation='softmax')\n",
        "])\n",
        "model.summary()"
      ],
      "execution_count": null,
      "outputs": []
    },
    {
      "cell_type": "code",
      "metadata": {
        "id": "BUqHADbrmb-n"
      },
      "source": [
        "# 모델 설정\n",
        "model.compile(\n",
        "    optimizer='adam', loss='categorical_crossentropy', metrics=['accuracy']\n",
        ")"
      ],
      "execution_count": null,
      "outputs": []
    },
    {
      "cell_type": "code",
      "metadata": {
        "id": "6FSoEY1zmgrk"
      },
      "source": [
        "# 모델 학습\n",
        "history = model.fit(\n",
        "    X_train_ex, y_train_ex,\n",
        "    epochs=100, batch_size=32, verbose=1,\n",
        "    validation_data=(X_test_ex, y_test_ex)\n",
        ")"
      ],
      "execution_count": null,
      "outputs": []
    },
    {
      "cell_type": "code",
      "metadata": {
        "id": "g2x20HNEmtqk"
      },
      "source": [
        "# 훈련과정 시각화\n",
        "plt.figure(figsize=(12,8))\n",
        "plt.plot(history.history['acc'], 'bo-', markersize=2, label='Train Accuracy')\n",
        "plt.plot(history.history['val_acc'], 'ro-', markersize=2, label='Validation Accuracy')\n",
        "plt.xlabel('Epochs')\n",
        "plt.ylabel('Accuracy')\n",
        "plt.legend()\n",
        "plt.show()"
      ],
      "execution_count": null,
      "outputs": []
    }
  ]
}